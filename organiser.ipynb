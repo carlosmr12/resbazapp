{
 "cells": [
  {
   "cell_type": "markdown",
   "metadata": {},
   "source": [
    "# Python Interoperability - SUBPROCESS"
   ]
  },
  {
   "cell_type": "markdown",
   "metadata": {},
   "source": [
    "### Definition\n",
    "\n",
    "\"The subprocess module allows you to spawn new processes, connect to their input/output/error pipes, and obtain their return codes.\""
   ]
  },
  {
   "cell_type": "markdown",
   "metadata": {},
   "source": [
    "### Functions\n",
    "* __run__:  Run the command described by args. Wait for command to complete, then return a CompletedProcess instance.[1](https://docs.python.org/3/library/subprocess.html#subprocess.run)\n",
    "* __check_output__: Run command with arguments and return its output. [2](https://docs.python.org/3/library/subprocess.html#subprocess.check_output)\n",
    "* _peopen_: Execute a child program in a new process. [3](https://docs.python.org/3/library/subprocess.html#subprocess.Popen)\n"
   ]
  },
  {
   "cell_type": "markdown",
   "metadata": {},
   "source": [
    "### Shell commands Recap\n",
    "\n",
    "* __ls__: List information about files in a certain directory\n",
    "* __du -sh__: Calculates size of a directory\n",
    "* __find . ! -name 'file.txt' -type f -exec rm -f {} +__: Remove all files in current directory except for \"file.txt\""
   ]
  },
  {
   "cell_type": "markdown",
   "metadata": {},
   "source": [
    "### Task\n",
    "Remove all unnecessary files from a specific folder recursively except for structure (.pdb) and sequence (.fasta) files.\n",
    "\n",
    "Structure files are defined as:\n",
    "[four-letter-code] _ chain _ [one-letter-code].pdb - 1u9a_chain_A.pdb\n",
    "\n",
    "Sequence files are defined as:\n",
    "[four-letter-code] _ chain _ [one-letter-code].fasta - 1u9a_chain_A.fasta"
   ]
  },
  {
   "cell_type": "code",
   "execution_count": null,
   "metadata": {},
   "outputs": [],
   "source": [
    "# IMPORT PACKAGES\n",
    "import os\n",
    "import subprocess\n",
    "\n",
    "# DEFINE CONSTANTS\n",
    "CURRENT_FOLDER = os.getcwd()\n",
    "DATA_FOLDER = os.path.join(CURRENT_FOLDER,\"data\")\n",
    "\n",
    "\n",
    "def organiser(folder):\n",
    "    # READS ORIGINAL SIZE OF THE DATA\n",
    "    original_size = subprocess.check_output(f\"du -sh {folder}\", shell=True)\n",
    "    original_size = original_size.decode('ascii')\n",
    "    \n",
    "    # LIST ALL FOLDERS IN DATA folder\n",
    "    output_ls = subprocess.check_output(f\"ls {folder}\", shell=True)\n",
    "    # TRANSFORM TEXT OUTPUT FROM output_ls TO A PYTHON LIST\n",
    "    parsed_output_ls = [item.strip().decode('ascii') for item in output_ls.split()]\n",
    "    \n",
    "    # REMOVE ALL FILES EXCEPT FOR FILES WITH THE FOLLOWING NAME PDBCODE_chain_CHAIN.fasta and PDBCODE_chain_CHAIN.pdb\n",
    "    for entry in parsed_output_ls:\n",
    "        pdb_code = entry.split(\"_\")[0]\n",
    "        chain = entry.split(\"_\")[1]    \n",
    "        subprocess.run(f\"find {folder}/{pdb_code}_{chain} ! \\\\( -name '{pdb_code}_chain_{chain}.fasta' -o -name '{pdb_code}_chain_{chain}.pdb' \\\\) -type f -exec rm -f {{}} +\", shell=True)\n",
    "    \n",
    "    # READS SIZE OF folder AFTER REMOVING UNWANTED FILES\n",
    "    final_size = subprocess.check_output(f\"du -sh {folder}\", shell=True)\n",
    "    final_size = final_size.decode('ascii')\n",
    "   \n",
    "    \n",
    "    print(f\"Before: {original_size}\")\n",
    "    print(f\"After: {final_size}\")\n",
    "    return True\n",
    "    \n",
    "organiser(DATA_FOLDER)\n"
   ]
  },
  {
   "cell_type": "markdown",
   "metadata": {},
   "source": [
    "### Task\n",
    "Plot sizes for all sub folders.\n",
    "\n",
    "[Seaborn](https://seaborn.pydata.org/)"
   ]
  },
  {
   "cell_type": "code",
   "execution_count": null,
   "metadata": {},
   "outputs": [],
   "source": [
    "# IMPORT PACKAGES\n",
    "import matplotlib.pyplot as plt\n",
    "import seaborn as sns\n",
    "\n",
    "\n",
    "def plot_data_size(folder):\n",
    "    # READS ORIGINAL SIZE OF THE DATA\n",
    "    output_ls = subprocess.check_output(\"ls -lh {}\".format(DATA_FOLDER), shell=True)\n",
    "    parsed_output_ls = [item.strip() for item in output_ls.decode('ascii').split('\\n')]\n",
    "    \n",
    "    # GET ALL SIZES AND POPULATE WITH DICTIONARY\n",
    "    folder_size_dict = dict()\n",
    "    for entry in parsed_output_ls[1:-1]:\n",
    "        folder_name = entry.split()[-1]\n",
    "        folder_size = float(entry.split()[4][:-1])\n",
    "        folder_size_dict[folder_name] = folder_size\n",
    "    \n",
    "    # PLOT FILE SIZES\n",
    "    plt.figure(figsize=(9,7), dpi=300)\n",
    "    sns.barplot(x=list(folder_size_dict.keys()), y=list(folder_size_dict.values()))\n",
    "    # ROTATE LABELS ON AXIS X\n",
    "    plt.xticks(rotation=90)\n",
    "    return True\n",
    "\n",
    "plot_data_size(DATA_FOLDER)\n"
   ]
  }
 ],
 "metadata": {
  "kernelspec": {
   "display_name": "Python 3",
   "language": "python",
   "name": "python3"
  },
  "language_info": {
   "codemirror_mode": {
    "name": "ipython",
    "version": 3
   },
   "file_extension": ".py",
   "mimetype": "text/x-python",
   "name": "python",
   "nbconvert_exporter": "python",
   "pygments_lexer": "ipython3",
   "version": "3.7.2"
  }
 },
 "nbformat": 4,
 "nbformat_minor": 2
}
