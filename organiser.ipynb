{
 "cells": [
  {
   "cell_type": "code",
   "execution_count": null,
   "metadata": {},
   "outputs": [],
   "source": []
  },
  {
   "cell_type": "code",
   "execution_count": null,
   "metadata": {},
   "outputs": [],
   "source": []
  },
  {
   "cell_type": "code",
   "execution_count": null,
   "metadata": {},
   "outputs": [],
   "source": []
  },
  {
   "cell_type": "code",
   "execution_count": 12,
   "metadata": {},
   "outputs": [
    {
     "data": {
      "text/plain": [
       "True"
      ]
     },
     "execution_count": 12,
     "metadata": {},
     "output_type": "execute_result"
    }
   ],
   "source": [
    "import os\n",
    "import subprocess\n",
    "\n",
    "CURRENT_FOLDER = os.getcwd()\n",
    "DATA_FOLDER = os.path.join(CURRENT_FOLDER,\"data\")\n",
    "RESULTS_FOLDER = os.path.join(CURRENT_FOLDER,\"results\")\n",
    "\n",
    "subprocess.check_output(\"/home/chmrodrigues/Documents/modelling/data/pdbs\")\n",
    "\n",
    "def organiser(folder):\n",
    "    output_ls = subprocess.check_output(\"ls {}\".format(folder), shell=True)\n",
    "    parsed_output_ls = [item.strip() for item in output_ls.split()]\n",
    "    \n",
    "    subprocess.run(\"touch {}/test.txt\".format(folder), shell=True)\n",
    "    return True\n",
    "    \n",
    "organiser(DATA_FOLDER)\n"
   ]
  },
  {
   "cell_type": "code",
   "execution_count": null,
   "metadata": {},
   "outputs": [],
   "source": []
  }
 ],
 "metadata": {
  "kernelspec": {
   "display_name": "Python 3",
   "language": "python",
   "name": "python3"
  },
  "language_info": {
   "codemirror_mode": {
    "name": "ipython",
    "version": 3
   },
   "file_extension": ".py",
   "mimetype": "text/x-python",
   "name": "python",
   "nbconvert_exporter": "python",
   "pygments_lexer": "ipython3",
   "version": "3.7.2"
  }
 },
 "nbformat": 4,
 "nbformat_minor": 2
}
